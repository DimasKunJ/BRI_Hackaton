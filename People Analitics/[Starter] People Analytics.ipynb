{
 "cells": [
  {
   "cell_type": "markdown",
   "metadata": {
    "papermill": {
     "duration": 0.036921,
     "end_time": "2021-02-06T06:20:00.319311",
     "exception": false,
     "start_time": "2021-02-06T06:20:00.282390",
     "status": "completed"
    },
    "tags": []
   },
   "source": [
    "## Task\n",
    "\n",
    "Memprediksikan performance karyawan dalam 1 tahun kedepan menggunakan data histori KPI yang dimiliki perusahaan. Memprediksikan karyawan yang akan masuk kedalam golongan best performance dan yang tidak (Binary Classification)."
   ]
  },
  {
   "cell_type": "code",
   "execution_count": 1,
   "metadata": {
    "execution": {
     "iopub.execute_input": "2021-02-06T06:20:00.390944Z",
     "iopub.status.busy": "2021-02-06T06:20:00.390253Z",
     "iopub.status.idle": "2021-02-06T06:20:00.392724Z",
     "shell.execute_reply": "2021-02-06T06:20:00.393370Z"
    },
    "papermill": {
     "duration": 0.0398,
     "end_time": "2021-02-06T06:20:00.393687",
     "exception": false,
     "start_time": "2021-02-06T06:20:00.353887",
     "status": "completed"
    },
    "tags": []
   },
   "outputs": [],
   "source": [
    "# CONFIG\n",
    "SEED = 2021"
   ]
  },
  {
   "cell_type": "markdown",
   "metadata": {
    "papermill": {
     "duration": 0.030975,
     "end_time": "2021-02-06T06:20:00.457912",
     "exception": false,
     "start_time": "2021-02-06T06:20:00.426937",
     "status": "completed"
    },
    "tags": []
   },
   "source": [
    "# Import Library Utama\n",
    "\n",
    "Import library utama yang akan di gunakan.\n",
    "\n",
    "1. Numpy : Linear Algebra (Scientific Computing)\n",
    "2. Pandas : Data processing (Data analysis and Manipulation tool)\n",
    "3. Matplotlib (Pyplot) : Visualization (Main)\n",
    "4. Seaborn : Statistical Graphics"
   ]
  },
  {
   "cell_type": "code",
   "execution_count": 2,
   "metadata": {
    "_cell_guid": "b1076dfc-b9ad-4769-8c92-a6c4dae69d19",
    "_uuid": "8f2839f25d086af736a60e9eeb907d3b93b6e0e5",
    "execution": {
     "iopub.execute_input": "2021-02-06T06:20:00.524597Z",
     "iopub.status.busy": "2021-02-06T06:20:00.523905Z",
     "iopub.status.idle": "2021-02-06T06:20:01.463651Z",
     "shell.execute_reply": "2021-02-06T06:20:01.464240Z"
    },
    "papermill": {
     "duration": 0.974964,
     "end_time": "2021-02-06T06:20:01.464434",
     "exception": false,
     "start_time": "2021-02-06T06:20:00.489470",
     "status": "completed"
    },
    "tags": []
   },
   "outputs": [],
   "source": [
    "import numpy as np\n",
    "import pandas as pd\n",
    "import matplotlib.pyplot as plt\n",
    "import seaborn as sns"
   ]
  },
  {
   "cell_type": "markdown",
   "metadata": {
    "papermill": {
     "duration": 0.031241,
     "end_time": "2021-02-06T06:20:01.527709",
     "exception": false,
     "start_time": "2021-02-06T06:20:01.496468",
     "status": "completed"
    },
    "tags": []
   },
   "source": [
    "# Data Preprocessing "
   ]
  },
  {
   "cell_type": "code",
   "execution_count": 3,
   "metadata": {
    "execution": {
     "iopub.execute_input": "2021-02-06T06:20:01.595712Z",
     "iopub.status.busy": "2021-02-06T06:20:01.595051Z",
     "iopub.status.idle": "2021-02-06T06:20:01.724553Z",
     "shell.execute_reply": "2021-02-06T06:20:01.723762Z"
    },
    "papermill": {
     "duration": 0.164842,
     "end_time": "2021-02-06T06:20:01.724696",
     "exception": false,
     "start_time": "2021-02-06T06:20:01.559854",
     "status": "completed"
    },
    "tags": []
   },
   "outputs": [
    {
     "name": "stdout",
     "output_type": "stream",
     "text": [
      "<class 'pandas.core.frame.DataFrame'>\n",
      "RangeIndex: 11153 entries, 0 to 11152\n",
      "Data columns (total 22 columns):\n",
      " #   Column                                 Non-Null Count  Dtype  \n",
      "---  ------                                 --------------  -----  \n",
      " 0   job_level                              11153 non-null  object \n",
      " 1   job_duration_in_current_job_level      11153 non-null  float64\n",
      " 2   person_level                           11153 non-null  object \n",
      " 3   job_duration_in_current_person_level   11153 non-null  float64\n",
      " 4   job_duration_in_current_branch         11153 non-null  float64\n",
      " 5   Employee_type                          11153 non-null  object \n",
      " 6   gender                                 11153 non-null  int64  \n",
      " 7   age                                    11153 non-null  int64  \n",
      " 8   marital_status_maried(Y/N)             11153 non-null  object \n",
      " 9   number_of_dependences                  11153 non-null  int64  \n",
      " 10  Education_level                        11153 non-null  object \n",
      " 11  GPA                                    11153 non-null  float64\n",
      " 12  year_graduated                         11153 non-null  int64  \n",
      " 13  job_duration_from_training             11153 non-null  int64  \n",
      " 14  branch_rotation                        11153 non-null  int64  \n",
      " 15  job_rotation                           11153 non-null  int64  \n",
      " 16  assign_of_otherposition                11153 non-null  int64  \n",
      " 17  annual leave                           11153 non-null  int64  \n",
      " 18  sick_leaves                            11153 non-null  int64  \n",
      " 19  Last_achievement_%                     11152 non-null  float64\n",
      " 20  Achievement_above_100%_during3quartal  11152 non-null  float64\n",
      " 21  Best Performance                       11153 non-null  int64  \n",
      "dtypes: float64(6), int64(11), object(5)\n",
      "memory usage: 1.9+ MB\n"
     ]
    }
   ],
   "source": [
    "train = pd.read_csv(\"Data/Baru/train.csv\")\n",
    "test = pd.read_csv(\"Data/Baru/test.csv\")\n",
    "train.info()"
   ]
  },
  {
   "cell_type": "markdown",
   "metadata": {
    "papermill": {
     "duration": 0.032613,
     "end_time": "2021-02-06T06:20:01.790260",
     "exception": false,
     "start_time": "2021-02-06T06:20:01.757647",
     "status": "completed"
    },
    "tags": []
   },
   "source": [
    "### Imputation (Missing Value)\n",
    "\n",
    "Menangani missing value yang ada pada data"
   ]
  },
  {
   "cell_type": "code",
   "execution_count": 4,
   "metadata": {
    "execution": {
     "iopub.execute_input": "2021-02-06T06:20:01.867706Z",
     "iopub.status.busy": "2021-02-06T06:20:01.866972Z",
     "iopub.status.idle": "2021-02-06T06:20:01.891679Z",
     "shell.execute_reply": "2021-02-06T06:20:01.892312Z"
    },
    "papermill": {
     "duration": 0.069779,
     "end_time": "2021-02-06T06:20:01.892495",
     "exception": false,
     "start_time": "2021-02-06T06:20:01.822716",
     "status": "completed"
    },
    "tags": []
   },
   "outputs": [
    {
     "data": {
      "text/html": [
       "<div>\n",
       "<style scoped>\n",
       "    .dataframe tbody tr th:only-of-type {\n",
       "        vertical-align: middle;\n",
       "    }\n",
       "\n",
       "    .dataframe tbody tr th {\n",
       "        vertical-align: top;\n",
       "    }\n",
       "\n",
       "    .dataframe thead th {\n",
       "        text-align: right;\n",
       "    }\n",
       "</style>\n",
       "<table border=\"1\" class=\"dataframe\">\n",
       "  <thead>\n",
       "    <tr style=\"text-align: right;\">\n",
       "      <th></th>\n",
       "      <th>job_level</th>\n",
       "      <th>job_duration_in_current_job_level</th>\n",
       "      <th>person_level</th>\n",
       "      <th>job_duration_in_current_person_level</th>\n",
       "      <th>job_duration_in_current_branch</th>\n",
       "      <th>Employee_type</th>\n",
       "      <th>gender</th>\n",
       "      <th>age</th>\n",
       "      <th>marital_status_maried(Y/N)</th>\n",
       "      <th>number_of_dependences</th>\n",
       "      <th>...</th>\n",
       "      <th>year_graduated</th>\n",
       "      <th>job_duration_from_training</th>\n",
       "      <th>branch_rotation</th>\n",
       "      <th>job_rotation</th>\n",
       "      <th>assign_of_otherposition</th>\n",
       "      <th>annual leave</th>\n",
       "      <th>sick_leaves</th>\n",
       "      <th>Last_achievement_%</th>\n",
       "      <th>Achievement_above_100%_during3quartal</th>\n",
       "      <th>Best Performance</th>\n",
       "    </tr>\n",
       "  </thead>\n",
       "  <tbody>\n",
       "    <tr>\n",
       "      <th>1882</th>\n",
       "      <td>JG04</td>\n",
       "      <td>1.292285</td>\n",
       "      <td>PG03</td>\n",
       "      <td>1.292285</td>\n",
       "      <td>0.911043</td>\n",
       "      <td>RM_type_A</td>\n",
       "      <td>1</td>\n",
       "      <td>1991</td>\n",
       "      <td>N</td>\n",
       "      <td>0</td>\n",
       "      <td>...</td>\n",
       "      <td>2012</td>\n",
       "      <td>5</td>\n",
       "      <td>4</td>\n",
       "      <td>5</td>\n",
       "      <td>0</td>\n",
       "      <td>1</td>\n",
       "      <td>15</td>\n",
       "      <td>NaN</td>\n",
       "      <td>NaN</td>\n",
       "      <td>0</td>\n",
       "    </tr>\n",
       "  </tbody>\n",
       "</table>\n",
       "<p>1 rows × 22 columns</p>\n",
       "</div>"
      ],
      "text/plain": [
       "     job_level  job_duration_in_current_job_level person_level  \\\n",
       "1882      JG04                           1.292285         PG03   \n",
       "\n",
       "      job_duration_in_current_person_level  job_duration_in_current_branch  \\\n",
       "1882                              1.292285                        0.911043   \n",
       "\n",
       "     Employee_type  gender   age marital_status_maried(Y/N)  \\\n",
       "1882     RM_type_A       1  1991                          N   \n",
       "\n",
       "      number_of_dependences  ... year_graduated  job_duration_from_training  \\\n",
       "1882                      0  ...           2012                           5   \n",
       "\n",
       "      branch_rotation  job_rotation  assign_of_otherposition  annual leave  \\\n",
       "1882                4             5                        0             1   \n",
       "\n",
       "      sick_leaves  Last_achievement_%  Achievement_above_100%_during3quartal  \\\n",
       "1882           15                 NaN                                    NaN   \n",
       "\n",
       "      Best Performance  \n",
       "1882                 0  \n",
       "\n",
       "[1 rows x 22 columns]"
      ]
     },
     "execution_count": 4,
     "metadata": {},
     "output_type": "execute_result"
    }
   ],
   "source": [
    "train[train['Last_achievement_%'].isnull()]"
   ]
  },
  {
   "cell_type": "markdown",
   "metadata": {
    "papermill": {
     "duration": 0.032721,
     "end_time": "2021-02-06T06:20:01.958323",
     "exception": false,
     "start_time": "2021-02-06T06:20:01.925602",
     "status": "completed"
    },
    "tags": []
   },
   "source": [
    "Untuk sementara penanganan missing value dilakukan dengan cara dropping data yang *missing*"
   ]
  },
  {
   "cell_type": "code",
   "execution_count": 5,
   "metadata": {
    "execution": {
     "iopub.execute_input": "2021-02-06T06:20:02.029126Z",
     "iopub.status.busy": "2021-02-06T06:20:02.028144Z",
     "iopub.status.idle": "2021-02-06T06:20:02.066157Z",
     "shell.execute_reply": "2021-02-06T06:20:02.064821Z"
    },
    "papermill": {
     "duration": 0.074508,
     "end_time": "2021-02-06T06:20:02.066431",
     "exception": false,
     "start_time": "2021-02-06T06:20:01.991923",
     "status": "completed"
    },
    "tags": []
   },
   "outputs": [],
   "source": [
    "train = train.dropna()"
   ]
  },
  {
   "cell_type": "markdown",
   "metadata": {
    "papermill": {
     "duration": 0.034036,
     "end_time": "2021-02-06T06:20:02.135056",
     "exception": false,
     "start_time": "2021-02-06T06:20:02.101020",
     "status": "completed"
    },
    "tags": []
   },
   "source": [
    "### Feature Encoding\n",
    "\n",
    "> Feature encoding is basically performing transformations on the data such that it can be easily accepted as input for machine learning algorithms while still retaining its original meaning.\n",
    "\n",
    "Menghandle tipe data agar dapat diprosess dengan melakukan tranformasi"
   ]
  },
  {
   "cell_type": "markdown",
   "metadata": {
    "papermill": {
     "duration": 0.033608,
     "end_time": "2021-02-06T06:20:02.203024",
     "exception": false,
     "start_time": "2021-02-06T06:20:02.169416",
     "status": "completed"
    },
    "tags": []
   },
   "source": [
    "Mengecek kolom\" (feature) pada data yang memiliki *dtype object / string*"
   ]
  },
  {
   "cell_type": "code",
   "execution_count": 6,
   "metadata": {
    "execution": {
     "iopub.execute_input": "2021-02-06T06:20:02.297658Z",
     "iopub.status.busy": "2021-02-06T06:20:02.296729Z",
     "iopub.status.idle": "2021-02-06T06:20:02.301272Z",
     "shell.execute_reply": "2021-02-06T06:20:02.300640Z"
    },
    "papermill": {
     "duration": 0.06491,
     "end_time": "2021-02-06T06:20:02.301426",
     "exception": false,
     "start_time": "2021-02-06T06:20:02.236516",
     "status": "completed"
    },
    "tags": []
   },
   "outputs": [
    {
     "name": "stdout",
     "output_type": "stream",
     "text": [
      "------------------ 1 job_level -------------------\n",
      "JG04    10412\n",
      "JG05      704\n",
      "JG03       36\n",
      "Name: job_level, dtype: int64\n",
      "\n",
      "----------------- 3 person_level -----------------\n",
      "PG03    9654\n",
      "PG04     757\n",
      "PG06     378\n",
      "PG05     308\n",
      "PG07      19\n",
      "PG01      19\n",
      "PG02      16\n",
      "PG08       1\n",
      "Name: person_level, dtype: int64\n",
      "\n",
      "---------------- 6 Employee_type -----------------\n",
      "RM_type_A    7286\n",
      "RM_type_B    3380\n",
      "RM_type_C     486\n",
      "Name: Employee_type, dtype: int64\n",
      "\n",
      "---------- 9 marital_status_maried(Y/N) ----------\n",
      "Y    9501\n",
      "N    1651\n",
      "Name: marital_status_maried(Y/N), dtype: int64\n",
      "\n",
      "--------------- 11 Education_level ---------------\n",
      "level_4    9222\n",
      "level_3    1742\n",
      "level_1     140\n",
      "level_5      43\n",
      "level_2       4\n",
      "level_0       1\n",
      "Name: Education_level, dtype: int64\n",
      "\n"
     ]
    }
   ],
   "source": [
    "enc_column = []\n",
    "for i, column in enumerate(train.columns):\n",
    "    if(train[column].dtype == 'object'):\n",
    "        enc_column.append(column)\n",
    "        print(f' {i + 1} {column} '.center(50, '-'))\n",
    "        print(train[column].value_counts())\n",
    "        print()"
   ]
  },
  {
   "cell_type": "markdown",
   "metadata": {
    "papermill": {
     "duration": 0.040043,
     "end_time": "2021-02-06T06:20:02.382132",
     "exception": false,
     "start_time": "2021-02-06T06:20:02.342089",
     "status": "completed"
    },
    "tags": []
   },
   "source": [
    "Dapat dilihat bahwa pada variable job_level, person_level, dan Education_level adalah variable yang memiliki tipe data ordinal maka untuk Encodenya akan dilakukan menggunakan `OrdinalEncoder`"
   ]
  },
  {
   "cell_type": "code",
   "execution_count": 7,
   "metadata": {
    "execution": {
     "iopub.execute_input": "2021-02-06T06:20:02.471924Z",
     "iopub.status.busy": "2021-02-06T06:20:02.471247Z",
     "iopub.status.idle": "2021-02-06T06:20:02.651966Z",
     "shell.execute_reply": "2021-02-06T06:20:02.651348Z"
    },
    "papermill": {
     "duration": 0.231651,
     "end_time": "2021-02-06T06:20:02.652110",
     "exception": false,
     "start_time": "2021-02-06T06:20:02.420459",
     "status": "completed"
    },
    "tags": []
   },
   "outputs": [],
   "source": [
    "from sklearn.preprocessing import OrdinalEncoder"
   ]
  },
  {
   "cell_type": "markdown",
   "metadata": {
    "papermill": {
     "duration": 0.033521,
     "end_time": "2021-02-06T06:20:02.719474",
     "exception": false,
     "start_time": "2021-02-06T06:20:02.685953",
     "status": "completed"
    },
    "tags": []
   },
   "source": [
    "Urutkan berdasarkan levelnya.\n",
    "\n",
    "**Note**\n",
    "\n",
    "Pada variable job_level di data train seperti sudah di lihat diatas memiliki nilai JG03 - JG05 namun entah kenapa di data test terdapat JG06. Ini dapat menjadi masalah, namun untuk tahap ini akan coba di masukkan saja."
   ]
  },
  {
   "cell_type": "code",
   "execution_count": 8,
   "metadata": {
    "execution": {
     "iopub.execute_input": "2021-02-06T06:20:02.792977Z",
     "iopub.status.busy": "2021-02-06T06:20:02.792301Z",
     "iopub.status.idle": "2021-02-06T06:20:02.795586Z",
     "shell.execute_reply": "2021-02-06T06:20:02.794978Z"
    },
    "papermill": {
     "duration": 0.042613,
     "end_time": "2021-02-06T06:20:02.795739",
     "exception": false,
     "start_time": "2021-02-06T06:20:02.753126",
     "status": "completed"
    },
    "tags": []
   },
   "outputs": [],
   "source": [
    "ord_features = ['job_level', 'person_level', 'Education_level']\n",
    "ord_categories = [\n",
    "    [\"JG03\", \"JG04\", \"JG05\", \"JG06\"],\n",
    "    ['PG01', 'PG02', 'PG03', 'PG04', 'PG05', 'PG06', 'PG07', 'PG08'],\n",
    "    [\"level_0\", \"level_1\", \"level_2\", \"level_3\", \"level_4\", \"level_5\"]\n",
    "]"
   ]
  },
  {
   "cell_type": "markdown",
   "metadata": {
    "papermill": {
     "duration": 0.033672,
     "end_time": "2021-02-06T06:20:02.863429",
     "exception": false,
     "start_time": "2021-02-06T06:20:02.829757",
     "status": "completed"
    },
    "tags": []
   },
   "source": [
    "Encoding untuk data yang bertipe ordinal"
   ]
  },
  {
   "cell_type": "code",
   "execution_count": 9,
   "metadata": {
    "execution": {
     "iopub.execute_input": "2021-02-06T06:20:02.960687Z",
     "iopub.status.busy": "2021-02-06T06:20:02.955027Z",
     "iopub.status.idle": "2021-02-06T06:20:02.987958Z",
     "shell.execute_reply": "2021-02-06T06:20:02.987414Z"
    },
    "papermill": {
     "duration": 0.089974,
     "end_time": "2021-02-06T06:20:02.988111",
     "exception": false,
     "start_time": "2021-02-06T06:20:02.898137",
     "status": "completed"
    },
    "tags": []
   },
   "outputs": [],
   "source": [
    "ord_enc = OrdinalEncoder(categories = ord_categories)\n",
    "train[ord_features] = ord_enc.fit_transform(train[ord_features])\n",
    "test[ord_features] = ord_enc.transform(test[ord_features])"
   ]
  },
  {
   "cell_type": "markdown",
   "metadata": {
    "papermill": {
     "duration": 0.033839,
     "end_time": "2021-02-06T06:20:03.056213",
     "exception": false,
     "start_time": "2021-02-06T06:20:03.022374",
     "status": "completed"
    },
    "tags": []
   },
   "source": [
    "Pada data juga terdapat variable yang bersifat kategorik namun bertipe nominal yaitu :\n",
    "\n",
    "1. Employee_type \n",
    "2. marital_status_maried(Y/N)\n",
    "\n",
    "Untuk mengatasinya akan di lakukan One Hot Encoding menggunakan `pd.get_dummies`"
   ]
  },
  {
   "cell_type": "code",
   "execution_count": 10,
   "metadata": {
    "execution": {
     "iopub.execute_input": "2021-02-06T06:20:03.131458Z",
     "iopub.status.busy": "2021-02-06T06:20:03.130729Z",
     "iopub.status.idle": "2021-02-06T06:20:03.156097Z",
     "shell.execute_reply": "2021-02-06T06:20:03.155467Z"
    },
    "papermill": {
     "duration": 0.06603,
     "end_time": "2021-02-06T06:20:03.156276",
     "exception": false,
     "start_time": "2021-02-06T06:20:03.090246",
     "status": "completed"
    },
    "tags": []
   },
   "outputs": [],
   "source": [
    "train = pd.get_dummies(train)\n",
    "test = pd.get_dummies(test)"
   ]
  },
  {
   "cell_type": "code",
   "execution_count": 11,
   "metadata": {
    "execution": {
     "iopub.execute_input": "2021-02-06T06:20:03.230600Z",
     "iopub.status.busy": "2021-02-06T06:20:03.229871Z",
     "iopub.status.idle": "2021-02-06T06:20:03.237058Z",
     "shell.execute_reply": "2021-02-06T06:20:03.236383Z"
    },
    "papermill": {
     "duration": 0.0466,
     "end_time": "2021-02-06T06:20:03.237221",
     "exception": false,
     "start_time": "2021-02-06T06:20:03.190621",
     "status": "completed"
    },
    "tags": []
   },
   "outputs": [],
   "source": [
    "X = train.drop(['Best Performance'], axis = 1)\n",
    "Y = train['Best Performance'].values"
   ]
  },
  {
   "cell_type": "markdown",
   "metadata": {
    "papermill": {
     "duration": 0.034245,
     "end_time": "2021-02-06T06:20:03.306165",
     "exception": false,
     "start_time": "2021-02-06T06:20:03.271920",
     "status": "completed"
    },
    "tags": []
   },
   "source": [
    "## Exploratory Data Analysis\n",
    "\n",
    "Kenali data lebih dalam lewat EDA :)"
   ]
  },
  {
   "cell_type": "code",
   "execution_count": 12,
   "metadata": {
    "execution": {
     "iopub.execute_input": "2021-02-06T06:20:03.382253Z",
     "iopub.status.busy": "2021-02-06T06:20:03.381604Z",
     "iopub.status.idle": "2021-02-06T06:20:03.530006Z",
     "shell.execute_reply": "2021-02-06T06:20:03.530505Z"
    },
    "papermill": {
     "duration": 0.189967,
     "end_time": "2021-02-06T06:20:03.530692",
     "exception": false,
     "start_time": "2021-02-06T06:20:03.340725",
     "status": "completed"
    },
    "tags": []
   },
   "outputs": [
    {
     "data": {
      "image/png": "[encoded data removed]",
      "text/plain": [
       "<Figure size 360x576 with 1 Axes>"
      ]
     },
     "metadata": {
      "needs_background": "light"
     },
     "output_type": "display_data"
    }
   ],
   "source": [
    "plt.figure(figsize = (5, 8))\n",
    "sns.countplot(x = Y)\n",
    "plt.title(\"Barplot of Best Performance\")\n",
    "plt.show()"
   ]
  },
  {
   "cell_type": "markdown",
   "metadata": {
    "papermill": {
     "duration": 0.034956,
     "end_time": "2021-02-06T06:20:03.600813",
     "exception": false,
     "start_time": "2021-02-06T06:20:03.565857",
     "status": "completed"
    },
    "tags": []
   },
   "source": [
    "**Insight**\n",
    "\n",
    "Terdapat imbalance pada data. Pada variable `Best Performance` terdapat data bernilai `0` yang jauh lebih banyak di bandingkan dengan data bernilai `1`"
   ]
  },
  {
   "cell_type": "markdown",
   "metadata": {
    "papermill": {
     "duration": 0.035675,
     "end_time": "2021-02-06T06:20:03.671518",
     "exception": false,
     "start_time": "2021-02-06T06:20:03.635843",
     "status": "completed"
    },
    "tags": []
   },
   "source": [
    "### GPA\n",
    "\n",
    "Mengecek anomalitas yang ada di variable `GPA`"
   ]
  },
  {
   "cell_type": "code",
   "execution_count": 13,
   "metadata": {
    "execution": {
     "iopub.execute_input": "2021-02-06T06:20:03.851273Z",
     "iopub.status.busy": "2021-02-06T06:20:03.750440Z",
     "iopub.status.idle": "2021-02-06T06:20:21.567713Z",
     "shell.execute_reply": "2021-02-06T06:20:21.568267Z"
    },
    "papermill": {
     "duration": 17.86165,
     "end_time": "2021-02-06T06:20:21.568450",
     "exception": false,
     "start_time": "2021-02-06T06:20:03.706800",
     "status": "completed"
    },
    "tags": []
   },
   "outputs": [
    {
     "data": {
      "image/png": "[encoded data removed]",
      "text/plain": [
       "<Figure size 504x504 with 1 Axes>"
      ]
     },
     "metadata": {
      "needs_background": "light"
     },
     "output_type": "display_data"
    }
   ],
   "source": [
    "plt.figure(figsize = (7, 7))\n",
    "sns.histplot(data = X, x = 'GPA', kde = True)\n",
    "plt.title(\"Histogram of GPA\")\n",
    "plt.show()"
   ]
  },
  {
   "cell_type": "markdown",
   "metadata": {
    "papermill": {
     "duration": 0.036209,
     "end_time": "2021-02-06T06:20:21.642004",
     "exception": false,
     "start_time": "2021-02-06T06:20:21.605795",
     "status": "completed"
    },
    "tags": []
   },
   "source": [
    "**Insight**\n",
    "\n",
    "Dapat diliat dari histogram di atas bahwa variable `GPA` mempunyai rentang data yang cukup jauh dari `0` - `380`. Untuk mengatasi hal ini perlu di lakukan scaling pada terhadap data."
   ]
  },
  {
   "cell_type": "code",
   "execution_count": 14,
   "metadata": {
    "execution": {
     "iopub.execute_input": "2021-02-06T06:20:21.718253Z",
     "iopub.status.busy": "2021-02-06T06:20:21.717528Z",
     "iopub.status.idle": "2021-02-06T06:20:21.727135Z",
     "shell.execute_reply": "2021-02-06T06:20:21.726442Z"
    },
    "papermill": {
     "duration": 0.049468,
     "end_time": "2021-02-06T06:20:21.727304",
     "exception": false,
     "start_time": "2021-02-06T06:20:21.677836",
     "status": "completed"
    },
    "tags": []
   },
   "outputs": [
    {
     "data": {
      "text/plain": [
       "array([  7.28,   7.2 ,   4.19,   8.3 ,   6.82,   7.82,   7.  ,   8.69,\n",
       "        45.  ,  45.29,  44.83,   8.1 ,  30.73,  43.57,   6.18,  32.12,\n",
       "        75.  ,  53.06,   7.  ,  25.87,   7.49,  13.4 ,   6.36,  43.03,\n",
       "         8.4 ,  22.  , 155.  ,  36.3 ,  47.35,  44.56,  66.  ,  13.43,\n",
       "       293.  , 285.  , 303.  , 327.  , 318.  , 330.  , 317.  , 315.  ,\n",
       "       313.  , 301.  , 331.  , 325.  , 180.  , 280.  , 302.  , 282.  ,\n",
       "       320.  , 322.  , 368.  , 378.  ])"
      ]
     },
     "execution_count": 14,
     "metadata": {},
     "output_type": "execute_result"
    }
   ],
   "source": [
    "X[X['GPA'] > 4]['GPA'].values"
   ]
  },
  {
   "cell_type": "markdown",
   "metadata": {
    "papermill": {
     "duration": 0.036058,
     "end_time": "2021-02-06T06:20:21.800840",
     "exception": false,
     "start_time": "2021-02-06T06:20:21.764782",
     "status": "completed"
    },
    "tags": []
   },
   "source": [
    "Dapat dilihat bahwa skala pengukurannya di sini cukup bervariasi. Akan dicoba diasumsikan bahwa GPA memiliki skala \n",
    "\n",
    "1. `0 - 4`\n",
    "2. `0 - 40`\n",
    "3. `0 - 400`\n",
    "\n",
    "Sehingga pengubahan skala nya dengan metode untuk `0 - 40` akan dibagi dengan 10 dan `0 - 400` akan dibagi dengan 100"
   ]
  },
  {
   "cell_type": "code",
   "execution_count": 15,
   "metadata": {
    "execution": {
     "iopub.execute_input": "2021-02-06T06:20:21.884521Z",
     "iopub.status.busy": "2021-02-06T06:20:21.881551Z",
     "iopub.status.idle": "2021-02-06T06:20:21.893564Z",
     "shell.execute_reply": "2021-02-06T06:20:21.894041Z"
    },
    "papermill": {
     "duration": 0.056951,
     "end_time": "2021-02-06T06:20:21.894268",
     "exception": false,
     "start_time": "2021-02-06T06:20:21.837317",
     "status": "completed"
    },
    "tags": []
   },
   "outputs": [],
   "source": [
    "# Train\n",
    "X.loc[(X['GPA'] > 4) & (X['GPA'] <= 40), 'GPA'] /= 10\n",
    "X.loc[(X['GPA'] > 4) & (X['GPA'] > 40), 'GPA'] /= 100\n",
    "# Test\n",
    "test.loc[(test['GPA'] > 4) & (test['GPA'] <= 40), 'GPA'] /= 10\n",
    "test.loc[(test['GPA'] > 4) & (test['GPA'] > 40), 'GPA'] /= 100"
   ]
  },
  {
   "cell_type": "markdown",
   "metadata": {
    "papermill": {
     "duration": 0.035922,
     "end_time": "2021-02-06T06:20:21.967934",
     "exception": false,
     "start_time": "2021-02-06T06:20:21.932012",
     "status": "completed"
    },
    "tags": []
   },
   "source": [
    "Plot ulang"
   ]
  },
  {
   "cell_type": "code",
   "execution_count": 16,
   "metadata": {
    "execution": {
     "iopub.execute_input": "2021-02-06T06:20:22.044776Z",
     "iopub.status.busy": "2021-02-06T06:20:22.043797Z",
     "iopub.status.idle": "2021-02-06T06:20:22.452989Z",
     "shell.execute_reply": "2021-02-06T06:20:22.453540Z"
    },
    "papermill": {
     "duration": 0.449239,
     "end_time": "2021-02-06T06:20:22.453758",
     "exception": false,
     "start_time": "2021-02-06T06:20:22.004519",
     "status": "completed"
    },
    "tags": []
   },
   "outputs": [
    {
     "data": {
      "image/png": "[encoded data removed]",
      "text/plain": [
       "<Figure size 504x504 with 1 Axes>"
      ]
     },
     "metadata": {
      "needs_background": "light"
     },
     "output_type": "display_data"
    }
   ],
   "source": [
    "plt.figure(figsize = (7, 7))\n",
    "sns.histplot(data = X, x = 'GPA', kde = True)\n",
    "plt.title(\"Histogram of GPA\")\n",
    "plt.show()"
   ]
  },
  {
   "cell_type": "markdown",
   "metadata": {
    "papermill": {
     "duration": 0.037067,
     "end_time": "2021-02-06T06:20:22.528675",
     "exception": false,
     "start_time": "2021-02-06T06:20:22.491608",
     "status": "completed"
    },
    "tags": []
   },
   "source": [
    "### Splitting Data\n",
    "\n",
    "Membagi data menjadi data latih (train) dan data validasi (valid). Karena terdapat imbalance pada data maka perlu di berikan penanganan khusus.\n",
    "\n",
    "Pada Noteebook ini untuk menangani hal tersebut akan di lakukan `stratify` agar proporsi data `0` dan `1` pada data latih (train) dan data validasi (valid) sama"
   ]
  },
  {
   "cell_type": "code",
   "execution_count": 17,
   "metadata": {
    "execution": {
     "iopub.execute_input": "2021-02-06T06:20:22.607320Z",
     "iopub.status.busy": "2021-02-06T06:20:22.606264Z",
     "iopub.status.idle": "2021-02-06T06:20:23.608116Z",
     "shell.execute_reply": "2021-02-06T06:20:23.607558Z"
    },
    "papermill": {
     "duration": 1.042052,
     "end_time": "2021-02-06T06:20:23.608286",
     "exception": false,
     "start_time": "2021-02-06T06:20:22.566234",
     "status": "completed"
    },
    "tags": []
   },
   "outputs": [],
   "source": [
    "from sklearn.model_selection import train_test_split"
   ]
  },
  {
   "cell_type": "code",
   "execution_count": 18,
   "metadata": {
    "execution": {
     "iopub.execute_input": "2021-02-06T06:20:23.689061Z",
     "iopub.status.busy": "2021-02-06T06:20:23.688403Z",
     "iopub.status.idle": "2021-02-06T06:20:23.706589Z",
     "shell.execute_reply": "2021-02-06T06:20:23.705924Z"
    },
    "papermill": {
     "duration": 0.060847,
     "end_time": "2021-02-06T06:20:23.706744",
     "exception": false,
     "start_time": "2021-02-06T06:20:23.645897",
     "status": "completed"
    },
    "tags": []
   },
   "outputs": [],
   "source": [
    "X_train, X_valid, Y_train, Y_valid = train_test_split(X, Y, test_size = 0.2, \n",
    "                                                      random_state = SEED, stratify = Y)"
   ]
  },
  {
   "cell_type": "markdown",
   "metadata": {
    "papermill": {
     "duration": 0.038983,
     "end_time": "2021-02-06T06:20:23.784442",
     "exception": false,
     "start_time": "2021-02-06T06:20:23.745459",
     "status": "completed"
    },
    "tags": []
   },
   "source": [
    "Plot di bawah akan menunjukkan proporsi yang sama antara data train dan data valid."
   ]
  },
  {
   "cell_type": "code",
   "execution_count": 19,
   "metadata": {
    "execution": {
     "iopub.execute_input": "2021-02-06T06:20:23.883996Z",
     "iopub.status.busy": "2021-02-06T06:20:23.881905Z",
     "iopub.status.idle": "2021-02-06T06:20:24.108438Z",
     "shell.execute_reply": "2021-02-06T06:20:24.107880Z"
    },
    "papermill": {
     "duration": 0.285865,
     "end_time": "2021-02-06T06:20:24.108606",
     "exception": false,
     "start_time": "2021-02-06T06:20:23.822741",
     "status": "completed"
    },
    "tags": []
   },
   "outputs": [
    {
     "data": {
      "image/png": "[encoded data removed]",
      "text/plain": [
       "<Figure size 720x576 with 2 Axes>"
      ]
     },
     "metadata": {
      "needs_background": "light"
     },
     "output_type": "display_data"
    }
   ],
   "source": [
    "fig, (ax1, ax2) = plt.subplots(1, 2, figsize = (10, 8))\n",
    "sns.countplot(x = Y_train, ax = ax1)\n",
    "ax1.set_title(\"Barplot of Best Performance Data Train\")\n",
    "sns.countplot(x = Y_valid, ax = ax2)\n",
    "ax2.set_title(\"Barplot of Best Performance Data Valid\")\n",
    "plt.show()"
   ]
  },
  {
   "cell_type": "markdown",
   "metadata": {
    "papermill": {
     "duration": 0.038497,
     "end_time": "2021-02-06T06:20:24.186357",
     "exception": false,
     "start_time": "2021-02-06T06:20:24.147860",
     "status": "completed"
    },
    "tags": []
   },
   "source": [
    "## Modelling\n",
    "\n",
    "Membuat Model untuk memprediksi. Pada Notebook ini akan di gunakan model dasar yaitu `Random Forest Classifier` "
   ]
  },
  {
   "cell_type": "code",
   "execution_count": 20,
   "metadata": {
    "execution": {
     "iopub.execute_input": "2021-02-06T06:20:24.268734Z",
     "iopub.status.busy": "2021-02-06T06:20:24.268068Z",
     "iopub.status.idle": "2021-02-06T06:20:24.516593Z",
     "shell.execute_reply": "2021-02-06T06:20:24.517094Z"
    },
    "papermill": {
     "duration": 0.29229,
     "end_time": "2021-02-06T06:20:24.517340",
     "exception": false,
     "start_time": "2021-02-06T06:20:24.225050",
     "status": "completed"
    },
    "tags": []
   },
   "outputs": [],
   "source": [
    "from sklearn.ensemble import RandomForestClassifier"
   ]
  },
  {
   "cell_type": "code",
   "execution_count": 21,
   "metadata": {
    "execution": {
     "iopub.execute_input": "2021-02-06T06:20:24.600601Z",
     "iopub.status.busy": "2021-02-06T06:20:24.599618Z",
     "iopub.status.idle": "2021-02-06T06:20:26.084346Z",
     "shell.execute_reply": "2021-02-06T06:20:26.083793Z"
    },
    "papermill": {
     "duration": 1.527818,
     "end_time": "2021-02-06T06:20:26.084503",
     "exception": false,
     "start_time": "2021-02-06T06:20:24.556685",
     "status": "completed"
    },
    "tags": []
   },
   "outputs": [
    {
     "data": {
      "text/plain": [
       "RandomForestClassifier(random_state=2021)"
      ]
     },
     "execution_count": 21,
     "metadata": {},
     "output_type": "execute_result"
    }
   ],
   "source": [
    "model = RandomForestClassifier(n_estimators = 100, random_state = SEED)\n",
    "model.fit(X_train, Y_train)"
   ]
  },
  {
   "cell_type": "markdown",
   "metadata": {
    "papermill": {
     "duration": 0.039191,
     "end_time": "2021-02-06T06:20:26.163200",
     "exception": false,
     "start_time": "2021-02-06T06:20:26.124009",
     "status": "completed"
    },
    "tags": []
   },
   "source": [
    "### Cek Kebaikan Model\n",
    "\n",
    "Mengecek kebaikan model yang telah di fit sebelumnya. Metrics yang digunakan untuk kompetisi ini adalah `AUC`"
   ]
  },
  {
   "cell_type": "code",
   "execution_count": 22,
   "metadata": {
    "execution": {
     "iopub.execute_input": "2021-02-06T06:20:26.247627Z",
     "iopub.status.busy": "2021-02-06T06:20:26.246685Z",
     "iopub.status.idle": "2021-02-06T06:20:26.250610Z",
     "shell.execute_reply": "2021-02-06T06:20:26.251073Z"
    },
    "papermill": {
     "duration": 0.048489,
     "end_time": "2021-02-06T06:20:26.251305",
     "exception": false,
     "start_time": "2021-02-06T06:20:26.202816",
     "status": "completed"
    },
    "tags": []
   },
   "outputs": [],
   "source": [
    "from sklearn.metrics import *"
   ]
  },
  {
   "cell_type": "markdown",
   "metadata": {
    "papermill": {
     "duration": 0.039271,
     "end_time": "2021-02-06T06:20:26.330323",
     "exception": false,
     "start_time": "2021-02-06T06:20:26.291052",
     "status": "completed"
    },
    "tags": []
   },
   "source": [
    "Untuk menghitung skor AUC dilakukan dengan menghitung probabilitas dari prediksi lalu ambil probabilitas untuk prediksi 1. misal\n",
    "\n",
    "```\n",
    "prediksi_1 = 0 : 0.82 ; 1 : 0.18\n",
    "prediksi_2 = 0 : 0.90 ; 1 : 0.10\n",
    "...\n",
    "prediksi_n = 0 : 0.64 ; 1 : 0.36\n",
    "```\n",
    "\n",
    "maka yang akan di ambil yaitu [`0.18`, `0.10`, ..., `0.36`]"
   ]
  },
  {
   "cell_type": "code",
   "execution_count": 23,
   "metadata": {
    "execution": {
     "iopub.execute_input": "2021-02-06T06:20:26.413792Z",
     "iopub.status.busy": "2021-02-06T06:20:26.412767Z",
     "iopub.status.idle": "2021-02-06T06:20:26.484093Z",
     "shell.execute_reply": "2021-02-06T06:20:26.484700Z"
    },
    "papermill": {
     "duration": 0.11467,
     "end_time": "2021-02-06T06:20:26.484883",
     "exception": false,
     "start_time": "2021-02-06T06:20:26.370213",
     "status": "completed"
    },
    "tags": []
   },
   "outputs": [
    {
     "name": "stdout",
     "output_type": "stream",
     "text": [
      "AUC score untuk model adalah sebesar : 0.5915286986354175\n"
     ]
    }
   ],
   "source": [
    "pred = model.predict_proba(X_valid)\n",
    "model_auc = roc_auc_score(Y_valid, pred[:, 1])\n",
    "print(f\"AUC score untuk model adalah sebesar : {model_auc}\")"
   ]
  },
  {
   "cell_type": "markdown",
   "metadata": {
    "papermill": {
     "duration": 0.040078,
     "end_time": "2021-02-06T06:20:26.564885",
     "exception": false,
     "start_time": "2021-02-06T06:20:26.524807",
     "status": "completed"
    },
    "tags": []
   },
   "source": [
    "Untuk melihat performa model secara lebih detil akan dilihat lewat plot `ROC AUC` dan juga `Histogram` dari prediksi."
   ]
  },
  {
   "cell_type": "code",
   "execution_count": 24,
   "metadata": {
    "execution": {
     "iopub.execute_input": "2021-02-06T06:20:26.693429Z",
     "iopub.status.busy": "2021-02-06T06:20:26.692697Z",
     "iopub.status.idle": "2021-02-06T06:20:27.112536Z",
     "shell.execute_reply": "2021-02-06T06:20:27.113108Z"
    },
    "papermill": {
     "duration": 0.507826,
     "end_time": "2021-02-06T06:20:27.113312",
     "exception": false,
     "start_time": "2021-02-06T06:20:26.605486",
     "status": "completed"
    },
    "tags": []
   },
   "outputs": [
    {
     "data": {
      "image/png": "[encoded data removed]",
      "text/plain": [
       "<Figure size 1008x504 with 2 Axes>"
      ]
     },
     "metadata": {
      "needs_background": "light"
     },
     "output_type": "display_data"
    }
   ],
   "source": [
    "fig, (ax1, ax2) = plt.subplots(1, 2, figsize = (14, 7))\n",
    "plot_roc_curve(model, X_valid, Y_valid, ax = ax1)\n",
    "ax1.set_title(\"ROC AUC Curve\")\n",
    "sns.histplot(x = pred[:, 1], ax = ax2, kde = True)\n",
    "ax2.set_title(\"Histogram of Prediction\")\n",
    "plt.show()"
   ]
  },
  {
   "cell_type": "markdown",
   "metadata": {
    "papermill": {
     "duration": 0.041839,
     "end_time": "2021-02-06T06:20:27.197238",
     "exception": false,
     "start_time": "2021-02-06T06:20:27.155399",
     "status": "completed"
    },
    "tags": []
   },
   "source": [
    "**Insight**\n",
    "\n",
    "Dapat disimpulkan dari 2 plot diatas bahwa model sangat kesulitan untuk mengenali tipe `1` pada variable target."
   ]
  },
  {
   "cell_type": "markdown",
   "metadata": {
    "papermill": {
     "duration": 0.041166,
     "end_time": "2021-02-06T06:20:27.280090",
     "exception": false,
     "start_time": "2021-02-06T06:20:27.238924",
     "status": "completed"
    },
    "tags": []
   },
   "source": [
    "## Tuning Model\n",
    "\n",
    "Setelah melihat hasil pada model, dapat dikatakan bahwa model memiliki performa yang tidak cukup baik untuk memprediksi data. Maka dari itu perlu dilakukan tunning pada hyperprameter model agar model dapat menghasilkan performa yang lebih baik"
   ]
  },
  {
   "cell_type": "markdown",
   "metadata": {
    "papermill": {
     "duration": 0.041889,
     "end_time": "2021-02-06T06:20:27.364211",
     "exception": false,
     "start_time": "2021-02-06T06:20:27.322322",
     "status": "completed"
    },
    "tags": []
   },
   "source": [
    "### Grid Search\n",
    "\n",
    "GridSearch untuk mencari parameter terbaik dari model"
   ]
  },
  {
   "cell_type": "code",
   "execution_count": 25,
   "metadata": {
    "execution": {
     "iopub.execute_input": "2021-02-06T06:20:27.453513Z",
     "iopub.status.busy": "2021-02-06T06:20:27.452788Z",
     "iopub.status.idle": "2021-02-06T06:20:27.456188Z",
     "shell.execute_reply": "2021-02-06T06:20:27.455583Z"
    },
    "papermill": {
     "duration": 0.050467,
     "end_time": "2021-02-06T06:20:27.456344",
     "exception": false,
     "start_time": "2021-02-06T06:20:27.405877",
     "status": "completed"
    },
    "tags": []
   },
   "outputs": [],
   "source": [
    "from sklearn.model_selection import GridSearchCV"
   ]
  },
  {
   "cell_type": "markdown",
   "metadata": {
    "papermill": {
     "duration": 0.041443,
     "end_time": "2021-02-06T06:20:27.539560",
     "exception": false,
     "start_time": "2021-02-06T06:20:27.498117",
     "status": "completed"
    },
    "tags": []
   },
   "source": [
    "Inisiasi parameternya"
   ]
  },
  {
   "cell_type": "code",
   "execution_count": 26,
   "metadata": {
    "execution": {
     "iopub.execute_input": "2021-02-06T06:20:27.629678Z",
     "iopub.status.busy": "2021-02-06T06:20:27.628996Z",
     "iopub.status.idle": "2021-02-06T06:20:27.633261Z",
     "shell.execute_reply": "2021-02-06T06:20:27.632539Z"
    },
    "papermill": {
     "duration": 0.052508,
     "end_time": "2021-02-06T06:20:27.633427",
     "exception": false,
     "start_time": "2021-02-06T06:20:27.580919",
     "status": "completed"
    },
    "tags": []
   },
   "outputs": [],
   "source": [
    "tune_params = [\n",
    "    {'n_estimators': list(range(90, 115, 5)), \n",
    "     \"criterion\": [\"gini\", \"entropy\"],\n",
    "     'max_features': [5, 'auto', \"log2\"], \n",
    "     'max_depth': [2, 10, None], \n",
    "     \"min_samples_split\": [1, 2, 5],\n",
    "     \"min_samples_leaf\": [5, 10, 15],\n",
    "     \"max_leaf_nodes\": [10, 20, None],\n",
    "     'bootstrap': [True, False]\n",
    "    }\n",
    "]"
   ]
  },
  {
   "cell_type": "markdown",
   "metadata": {
    "papermill": {
     "duration": 0.04234,
     "end_time": "2021-02-06T06:20:27.719477",
     "exception": false,
     "start_time": "2021-02-06T06:20:27.677137",
     "status": "completed"
    },
    "tags": []
   },
   "source": [
    "Modelling"
   ]
  },
  {
   "cell_type": "code",
   "execution_count": 27,
   "metadata": {
    "execution": {
     "iopub.execute_input": "2021-02-06T06:20:27.810878Z",
     "iopub.status.busy": "2021-02-06T06:20:27.809772Z",
     "iopub.status.idle": "2021-02-06T07:34:06.352318Z",
     "shell.execute_reply": "2021-02-06T07:34:06.351156Z"
    },
    "papermill": {
     "duration": 4418.590999,
     "end_time": "2021-02-06T07:34:06.352594",
     "exception": false,
     "start_time": "2021-02-06T06:20:27.761595",
     "status": "completed"
    },
    "tags": []
   },
   "outputs": [
    {
     "name": "stdout",
     "output_type": "stream",
     "text": [
      "Fitting 5 folds for each of 4860 candidates, totalling 24300 fits\n"
     ]
    },
    {
     "name": "stderr",
     "output_type": "stream",
     "text": [
      "[Parallel(n_jobs=-1)]: Using backend LokyBackend with 4 concurrent workers.\n",
      "[Parallel(n_jobs=-1)]: Done  33 tasks      | elapsed:    4.0s\n",
      "[Parallel(n_jobs=-1)]: Done 154 tasks      | elapsed:   19.4s\n",
      "[Parallel(n_jobs=-1)]: Done 357 tasks      | elapsed:   41.9s\n",
      "[Parallel(n_jobs=-1)]: Done 640 tasks      | elapsed:  1.2min\n",
      "[Parallel(n_jobs=-1)]: Done 1005 tasks      | elapsed:  1.9min\n",
      "[Parallel(n_jobs=-1)]: Done 1450 tasks      | elapsed:  2.7min\n",
      "[Parallel(n_jobs=-1)]: Done 1977 tasks      | elapsed:  3.7min\n",
      "[Parallel(n_jobs=-1)]: Done 2584 tasks      | elapsed:  5.4min\n",
      "[Parallel(n_jobs=-1)]: Done 3273 tasks      | elapsed:  7.4min\n",
      "[Parallel(n_jobs=-1)]: Done 4042 tasks      | elapsed:  9.6min\n",
      "[Parallel(n_jobs=-1)]: Done 4893 tasks      | elapsed: 12.3min\n",
      "[Parallel(n_jobs=-1)]: Done 5824 tasks      | elapsed: 15.0min\n",
      "[Parallel(n_jobs=-1)]: Done 6837 tasks      | elapsed: 17.5min\n",
      "[Parallel(n_jobs=-1)]: Done 7930 tasks      | elapsed: 19.5min\n",
      "[Parallel(n_jobs=-1)]: Done 9105 tasks      | elapsed: 23.0min\n",
      "[Parallel(n_jobs=-1)]: Done 10360 tasks      | elapsed: 27.0min\n",
      "[Parallel(n_jobs=-1)]: Done 11697 tasks      | elapsed: 31.9min\n",
      "[Parallel(n_jobs=-1)]: Done 13114 tasks      | elapsed: 35.5min\n",
      "[Parallel(n_jobs=-1)]: Done 14613 tasks      | elapsed: 38.7min\n",
      "[Parallel(n_jobs=-1)]: Done 16192 tasks      | elapsed: 44.1min\n",
      "[Parallel(n_jobs=-1)]: Done 17853 tasks      | elapsed: 50.5min\n",
      "[Parallel(n_jobs=-1)]: Done 19594 tasks      | elapsed: 54.9min\n",
      "[Parallel(n_jobs=-1)]: Done 21417 tasks      | elapsed: 60.7min\n",
      "[Parallel(n_jobs=-1)]: Done 23320 tasks      | elapsed: 68.8min\n",
      "[Parallel(n_jobs=-1)]: Done 24300 out of 24300 | elapsed: 73.6min finished\n"
     ]
    },
    {
     "data": {
      "text/plain": [
       "GridSearchCV(cv=5, estimator=RandomForestClassifier(random_state=2021),\n",
       "             n_jobs=-1,\n",
       "             param_grid=[{'bootstrap': [True, False],\n",
       "                          'criterion': ['gini', 'entropy'],\n",
       "                          'max_depth': [2, 10, None],\n",
       "                          'max_features': [5, 'auto', 'log2'],\n",
       "                          'max_leaf_nodes': [10, 20, None],\n",
       "                          'min_samples_leaf': [5, 10, 15],\n",
       "                          'min_samples_split': [1, 2, 5],\n",
       "                          'n_estimators': [90, 95, 100, 105, 110]}],\n",
       "             scoring='roc_auc', verbose=2)"
      ]
     },
     "execution_count": 27,
     "metadata": {},
     "output_type": "execute_result"
    }
   ],
   "source": [
    "model_tune = RandomForestClassifier(random_state = SEED)\n",
    "model_grid = GridSearchCV(model_tune, tune_params, cv = 5, scoring = 'roc_auc', \n",
    "                          verbose = 2, n_jobs = -1)\n",
    "model_grid.fit(X_train, Y_train)"
   ]
  },
  {
   "cell_type": "markdown",
   "metadata": {
    "papermill": {
     "duration": 0.055354,
     "end_time": "2021-02-06T07:34:06.476313",
     "exception": false,
     "start_time": "2021-02-06T07:34:06.420959",
     "status": "completed"
    },
    "tags": []
   },
   "source": [
    "Cek best params dari model"
   ]
  },
  {
   "cell_type": "code",
   "execution_count": 28,
   "metadata": {
    "execution": {
     "iopub.execute_input": "2021-02-06T07:34:06.584427Z",
     "iopub.status.busy": "2021-02-06T07:34:06.583633Z",
     "iopub.status.idle": "2021-02-06T07:34:06.587662Z",
     "shell.execute_reply": "2021-02-06T07:34:06.588265Z"
    },
    "papermill": {
     "duration": 0.060978,
     "end_time": "2021-02-06T07:34:06.588446",
     "exception": false,
     "start_time": "2021-02-06T07:34:06.527468",
     "status": "completed"
    },
    "tags": []
   },
   "outputs": [
    {
     "data": {
      "text/plain": [
       "{'bootstrap': False,\n",
       " 'criterion': 'gini',\n",
       " 'max_depth': None,\n",
       " 'max_features': 5,\n",
       " 'max_leaf_nodes': None,\n",
       " 'min_samples_leaf': 15,\n",
       " 'min_samples_split': 2,\n",
       " 'n_estimators': 100}"
      ]
     },
     "execution_count": 28,
     "metadata": {},
     "output_type": "execute_result"
    }
   ],
   "source": [
    "model_grid.best_params_"
   ]
  },
  {
   "cell_type": "markdown",
   "metadata": {
    "papermill": {
     "duration": 0.051561,
     "end_time": "2021-02-06T07:34:06.691060",
     "exception": false,
     "start_time": "2021-02-06T07:34:06.639499",
     "status": "completed"
    },
    "tags": []
   },
   "source": [
    "Cek kebaikan model"
   ]
  },
  {
   "cell_type": "code",
   "execution_count": 29,
   "metadata": {
    "execution": {
     "iopub.execute_input": "2021-02-06T07:34:06.798434Z",
     "iopub.status.busy": "2021-02-06T07:34:06.797767Z",
     "iopub.status.idle": "2021-02-06T07:34:06.855188Z",
     "shell.execute_reply": "2021-02-06T07:34:06.855776Z"
    },
    "papermill": {
     "duration": 0.113447,
     "end_time": "2021-02-06T07:34:06.855967",
     "exception": false,
     "start_time": "2021-02-06T07:34:06.742520",
     "status": "completed"
    },
    "tags": []
   },
   "outputs": [
    {
     "name": "stdout",
     "output_type": "stream",
     "text": [
      "AUC score untuk model adalah sebesar   : 0.5849378742322617\n",
      "Tunning menghasilkan perbedaan sebesar : -0.006590824403155726\n"
     ]
    }
   ],
   "source": [
    "tune_pred = model_grid.best_estimator_.predict_proba(X_valid)\n",
    "model_tune_auc = roc_auc_score(Y_valid, tune_pred[:, 1])\n",
    "print(f\"AUC score untuk model adalah sebesar   : {model_tune_auc}\")\n",
    "print(f\"Tunning menghasilkan perbedaan sebesar : {model_tune_auc - model_auc}\")"
   ]
  },
  {
   "cell_type": "markdown",
   "metadata": {
    "papermill": {
     "duration": 0.051247,
     "end_time": "2021-02-06T07:34:06.959127",
     "exception": false,
     "start_time": "2021-02-06T07:34:06.907880",
     "status": "completed"
    },
    "tags": []
   },
   "source": [
    "Plotting Histogram & ROC"
   ]
  },
  {
   "cell_type": "code",
   "execution_count": 30,
   "metadata": {
    "execution": {
     "iopub.execute_input": "2021-02-06T07:34:07.065883Z",
     "iopub.status.busy": "2021-02-06T07:34:07.065211Z",
     "iopub.status.idle": "2021-02-06T07:34:07.514186Z",
     "shell.execute_reply": "2021-02-06T07:34:07.514751Z"
    },
    "papermill": {
     "duration": 0.504291,
     "end_time": "2021-02-06T07:34:07.514934",
     "exception": false,
     "start_time": "2021-02-06T07:34:07.010643",
     "status": "completed"
    },
    "tags": []
   },
   "outputs": [
    {
     "data": {
      "image/png": "[encoded data removed]",
      "text/plain": [
       "<Figure size 1008x504 with 2 Axes>"
      ]
     },
     "metadata": {
      "needs_background": "light"
     },
     "output_type": "display_data"
    }
   ],
   "source": [
    "fig, (ax1, ax2) = plt.subplots(1, 2, figsize = (14, 7))\n",
    "plot_roc_curve(model_grid.best_estimator_, X_valid, Y_valid, ax = ax1)\n",
    "ax1.set_title(\"ROC AUC Curve\")\n",
    "sns.histplot(x = tune_pred [:, 1], ax = ax2, kde = True)\n",
    "ax2.set_title(\"Histogram of Prediction\")\n",
    "plt.show()"
   ]
  },
  {
   "cell_type": "markdown",
   "metadata": {
    "papermill": {
     "duration": 0.052353,
     "end_time": "2021-02-06T07:34:07.621512",
     "exception": false,
     "start_time": "2021-02-06T07:34:07.569159",
     "status": "completed"
    },
    "tags": []
   },
   "source": [
    "## Prediksi\n",
    "\n",
    "`predict_proba` data test untuk mendapatkan probabilitas prediksiannya."
   ]
  },
  {
   "cell_type": "code",
   "execution_count": 31,
   "metadata": {
    "execution": {
     "iopub.execute_input": "2021-02-06T07:34:07.730242Z",
     "iopub.status.busy": "2021-02-06T07:34:07.729556Z",
     "iopub.status.idle": "2021-02-06T07:34:07.974674Z",
     "shell.execute_reply": "2021-02-06T07:34:07.975150Z"
    },
    "papermill": {
     "duration": 0.300965,
     "end_time": "2021-02-06T07:34:07.975351",
     "exception": false,
     "start_time": "2021-02-06T07:34:07.674386",
     "status": "completed"
    },
    "tags": []
   },
   "outputs": [],
   "source": [
    "# No Tune Model\n",
    "model_pred = model.predict_proba(test)\n",
    "# Tune Model\n",
    "model_tune_pred = model_grid.best_estimator_.predict_proba(test)"
   ]
  },
  {
   "cell_type": "markdown",
   "metadata": {
    "papermill": {
     "duration": 0.053223,
     "end_time": "2021-02-06T07:34:08.082715",
     "exception": false,
     "start_time": "2021-02-06T07:34:08.029492",
     "status": "completed"
    },
    "tags": []
   },
   "source": [
    "## Submission\n",
    "\n",
    "Mengambil kolom ke 1 dari hasil prediksi lalu pack dalam file `csv`"
   ]
  },
  {
   "cell_type": "code",
   "execution_count": 32,
   "metadata": {
    "execution": {
     "iopub.execute_input": "2021-02-06T07:34:08.192598Z",
     "iopub.status.busy": "2021-02-06T07:34:08.191871Z",
     "iopub.status.idle": "2021-02-06T07:34:08.262579Z",
     "shell.execute_reply": "2021-02-06T07:34:08.261963Z"
    },
    "papermill": {
     "duration": 0.126937,
     "end_time": "2021-02-06T07:34:08.262726",
     "exception": false,
     "start_time": "2021-02-06T07:34:08.135789",
     "status": "completed"
    },
    "tags": []
   },
   "outputs": [],
   "source": [
    "sample = pd.read_csv(\"Data/Baru/sample_submission.csv\")\n",
    "# No tune Model\n",
    "sample[\"Best Performance\"] = model_pred[:, 1]\n",
    "sample.to_csv(\"RandomForest - No Tune.csv\", index = False)\n",
    "# Tune Model\n",
    "sample[\"Best Performance\"] = model_tune_pred[:, 1]\n",
    "sample.to_csv(\"RandomForest - GridSearch.csv\", index = False)"
   ]
  }
 ],
 "metadata": {
  "kernelspec": {
   "display_name": "Python 3",
   "language": "python",
   "name": "python3"
  },
  "language_info": {
   "codemirror_mode": {
    "name": "ipython",
    "version": 3
   },
   "file_extension": ".py",
   "mimetype": "text/x-python",
   "name": "python",
   "nbconvert_exporter": "python",
   "pygments_lexer": "ipython3",
   "version": "3.7.9"
  },
  "papermill": {
   "default_parameters": {},
   "duration": 4455.373186,
   "end_time": "2021-02-06T07:34:09.328916",
   "environment_variables": {},
   "exception": null,
   "input_path": "__notebook__.ipynb",
   "output_path": "__notebook__.ipynb",
   "parameters": {},
   "start_time": "2021-02-06T06:19:53.955730",
   "version": "2.2.2"
  }
 },
 "nbformat": 4,
 "nbformat_minor": 4
}